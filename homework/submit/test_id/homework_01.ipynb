{
 "cells": [
  {
   "cell_type": "markdown",
   "metadata": {},
   "source": [
    "<a href=\"https://colab.research.google.com/github/chu-ise/378A-2022/blob/main/homework/homework_01.ipynb\" target=\"_parent\"><img src=\"https://colab.research.google.com/assets/colab-badge.svg\" alt=\"Open In Colab\"/></a>"
   ]
  },
  {
   "cell_type": "markdown",
   "metadata": {},
   "source": [
    "# HW01: Python Basics for Text"
   ]
  },
  {
   "cell_type": "code",
   "execution_count": 2,
   "metadata": {},
   "outputs": [],
   "source": [
    "%%capture\n",
    "%pip install gdown numpy pandas matplotlib"
   ]
  },
  {
   "cell_type": "code",
   "execution_count": 3,
   "metadata": {},
   "outputs": [
    {
     "name": "stderr",
     "output_type": "stream",
     "text": [
      "Downloading...\n",
      "From: https://drive.google.com/uc?id=1brXucwHS0k0g59Apj9PRhySezisrgo8c\n",
      "To: /Volumes/AKiTiO Safe/cloud/Dropbox/Lecture/CHU/2022/378A/classes/378A-2022/homework/korean_news.csv\n",
      "100%|██████████| 12.9M/12.9M [00:01<00:00, 8.06MB/s]\n"
     ]
    },
    {
     "data": {
      "text/plain": [
       "'korean_news.csv'"
      ]
     },
     "execution_count": 3,
     "metadata": {},
     "output_type": "execute_result"
    }
   ],
   "source": [
    "import gdown\n",
    "id = \"1brXucwHS0k0g59Apj9PRhySezisrgo8c\"\n",
    "data_file = \"korean_news.csv\"\n",
    "gdown.download(id=id, output=data_file, quiet=False, fuzzy=True)"
   ]
  },
  {
   "cell_type": "code",
   "execution_count": 4,
   "metadata": {},
   "outputs": [
    {
     "data": {
      "text/html": [
       "<div>\n",
       "<style scoped>\n",
       "    .dataframe tbody tr th:only-of-type {\n",
       "        vertical-align: middle;\n",
       "    }\n",
       "\n",
       "    .dataframe tbody tr th {\n",
       "        vertical-align: top;\n",
       "    }\n",
       "\n",
       "    .dataframe thead th {\n",
       "        text-align: right;\n",
       "    }\n",
       "</style>\n",
       "<table border=\"1\" class=\"dataframe\">\n",
       "  <thead>\n",
       "    <tr style=\"text-align: right;\">\n",
       "      <th></th>\n",
       "      <th>id</th>\n",
       "      <th>doc_id</th>\n",
       "      <th>title</th>\n",
       "      <th>author</th>\n",
       "      <th>publisher</th>\n",
       "      <th>date</th>\n",
       "      <th>topic</th>\n",
       "      <th>original_topic</th>\n",
       "      <th>category</th>\n",
       "      <th>text</th>\n",
       "    </tr>\n",
       "  </thead>\n",
       "  <tbody>\n",
       "    <tr>\n",
       "      <th>0</th>\n",
       "      <td>4044817</td>\n",
       "      <td>NWRW2000000001.3667</td>\n",
       "      <td>조선일보 2019년 기사</td>\n",
       "      <td>최현묵 기자</td>\n",
       "      <td>조선일보</td>\n",
       "      <td>20190730</td>\n",
       "      <td>사회</td>\n",
       "      <td>정치,정부|경제/산업,거시경제,무역분쟁|경제/산업,거시경제,무역협정|정치,외교,외교관계</td>\n",
       "      <td>신문&gt;전국 종합지</td>\n",
       "      <td>정부 \"일본이 중과 희토류 분쟁때 했던 말, 되돌려주고 싶다\"\\n\"희토류 수출 제한...</td>\n",
       "    </tr>\n",
       "    <tr>\n",
       "      <th>1</th>\n",
       "      <td>3009579</td>\n",
       "      <td>NWRW1900000036.37413</td>\n",
       "      <td>경향신문 2014년 기사</td>\n",
       "      <td>박효순기자</td>\n",
       "      <td>경향신문사</td>\n",
       "      <td>20140911</td>\n",
       "      <td>미용/건강</td>\n",
       "      <td>인물&gt;인사</td>\n",
       "      <td>신문 &gt; 전국 종합지</td>\n",
       "      <td>박 대통령 새 주치의에 서울대 서창석 교수\\n박근혜 대통령의 새 주치의에 서창석 서...</td>\n",
       "    </tr>\n",
       "    <tr>\n",
       "      <th>2</th>\n",
       "      <td>2290675</td>\n",
       "      <td>NWRW1900000007.23380</td>\n",
       "      <td>조선일보 2015년 기사</td>\n",
       "      <td>김성현</td>\n",
       "      <td>조선일보사</td>\n",
       "      <td>20151116</td>\n",
       "      <td>경제</td>\n",
       "      <td>정치,특정 지역의 자치|경제/산업,기업정보</td>\n",
       "      <td>신문 &gt; 전국 종합지</td>\n",
       "      <td>행남자기, 목포 주민의 사랑 잊지 말길\\n전남 목포에서 73년간 향토기업으로서 맥을...</td>\n",
       "    </tr>\n",
       "    <tr>\n",
       "      <th>3</th>\n",
       "      <td>654141</td>\n",
       "      <td>NLRW1900000071.3353</td>\n",
       "      <td>광주매일신문 2017년 기사</td>\n",
       "      <td>오승지</td>\n",
       "      <td>광주매일신문</td>\n",
       "      <td>20170823</td>\n",
       "      <td>IT/과학</td>\n",
       "      <td>경제</td>\n",
       "      <td>신문 &gt; 지역 종합지</td>\n",
       "      <td>세계 첫 '해킹 원천차단 광케이블' 개발\\n광주지역 한 광통신업체가 세계 최초로 해...</td>\n",
       "    </tr>\n",
       "    <tr>\n",
       "      <th>4</th>\n",
       "      <td>1026229</td>\n",
       "      <td>NLRW1900000145.17890</td>\n",
       "      <td>영남일보 2011년 기사</td>\n",
       "      <td>남정현</td>\n",
       "      <td>영남일보</td>\n",
       "      <td>20111212</td>\n",
       "      <td>사회</td>\n",
       "      <td>미분류||</td>\n",
       "      <td>신문 &gt; 지역 종합지</td>\n",
       "      <td>12.11/문경/문경시의회 가처분 수용 갈등사태 장기화 조짐\\n문경시의회 의장단 불...</td>\n",
       "    </tr>\n",
       "  </tbody>\n",
       "</table>\n",
       "</div>"
      ],
      "text/plain": [
       "        id                doc_id            title  author publisher      date  \\\n",
       "0  4044817   NWRW2000000001.3667    조선일보 2019년 기사  최현묵 기자      조선일보  20190730   \n",
       "1  3009579  NWRW1900000036.37413    경향신문 2014년 기사   박효순기자     경향신문사  20140911   \n",
       "2  2290675  NWRW1900000007.23380    조선일보 2015년 기사     김성현     조선일보사  20151116   \n",
       "3   654141   NLRW1900000071.3353  광주매일신문 2017년 기사     오승지    광주매일신문  20170823   \n",
       "4  1026229  NLRW1900000145.17890    영남일보 2011년 기사     남정현      영남일보  20111212   \n",
       "\n",
       "   topic                                    original_topic     category  \\\n",
       "0     사회  정치,정부|경제/산업,거시경제,무역분쟁|경제/산업,거시경제,무역협정|정치,외교,외교관계    신문>전국 종합지   \n",
       "1  미용/건강                                             인물>인사  신문 > 전국 종합지   \n",
       "2     경제                           정치,특정 지역의 자치|경제/산업,기업정보  신문 > 전국 종합지   \n",
       "3  IT/과학                                                경제  신문 > 지역 종합지   \n",
       "4     사회                                             미분류||  신문 > 지역 종합지   \n",
       "\n",
       "                                                text  \n",
       "0  정부 \"일본이 중과 희토류 분쟁때 했던 말, 되돌려주고 싶다\"\\n\"희토류 수출 제한...  \n",
       "1  박 대통령 새 주치의에 서울대 서창석 교수\\n박근혜 대통령의 새 주치의에 서창석 서...  \n",
       "2  행남자기, 목포 주민의 사랑 잊지 말길\\n전남 목포에서 73년간 향토기업으로서 맥을...  \n",
       "3  세계 첫 '해킹 원천차단 광케이블' 개발\\n광주지역 한 광통신업체가 세계 최초로 해...  \n",
       "4  12.11/문경/문경시의회 가처분 수용 갈등사태 장기화 조짐\\n문경시의회 의장단 불...  "
      ]
     },
     "execution_count": 4,
     "metadata": {},
     "output_type": "execute_result"
    }
   ],
   "source": [
    "import pandas as pd\n",
    "df = pd.read_csv(data_file)\n",
    "df.head()"
   ]
  },
  {
   "cell_type": "markdown",
   "metadata": {},
   "source": [
    "1. 뉴스 다운로드\n",
    "2. 경제 뉴스만 추출\n",
    "3. 뉴스 길이 분포 그래프 생성\n",
    "4. 영어와 한국어 각각 단어수 분포 그래프 생성\n",
    "5. 연도별 불확실성 단어 시계열 그래프 생성\n"
   ]
  },
  {
   "cell_type": "code",
   "execution_count": null,
   "metadata": {},
   "outputs": [],
   "source": []
  }
 ],
 "metadata": {
  "interpreter": {
   "hash": "1cb483cf0c285c56169e405615a02d249d0d711aa034386fe0172be5ae49274c"
  },
  "kernelspec": {
   "display_name": "Python 3.9.2 64-bit ('nlp_test-3.9.2')",
   "language": "python",
   "name": "python3"
  },
  "language_info": {
   "codemirror_mode": {
    "name": "ipython",
    "version": 3
   },
   "file_extension": ".py",
   "mimetype": "text/x-python",
   "name": "python",
   "nbconvert_exporter": "python",
   "pygments_lexer": "ipython3",
   "version": "3.9.2"
  },
  "orig_nbformat": 4
 },
 "nbformat": 4,
 "nbformat_minor": 2
}
